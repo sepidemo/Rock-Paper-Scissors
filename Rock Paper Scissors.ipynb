{
 "cells": [
  {
   "cell_type": "code",
   "execution_count": 1,
   "id": "d100583e-bfc5-46e2-877f-27554bf9bc9f",
   "metadata": {},
   "outputs": [],
   "source": [
    "import random"
   ]
  },
  {
   "cell_type": "code",
   "execution_count": 2,
   "id": "732c7d50-7ed1-4059-bb01-e3b9c2b2d50f",
   "metadata": {},
   "outputs": [],
   "source": [
    "#we need to import random module to simulate the computer’s choices"
   ]
  },
  {
   "cell_type": "code",
   "execution_count": 3,
   "id": "8193ac70-23b1-4459-81da-2e2e710ff612",
   "metadata": {},
   "outputs": [],
   "source": [
    "#Now we’re able to use the different tools inside random to randomize the computer’s actions in the game."
   ]
  },
  {
   "cell_type": "code",
   "execution_count": 4,
   "id": "ba733630-5ea1-48cc-a8fc-1e396b6971b3",
   "metadata": {},
   "outputs": [],
   "source": [
    "#users will also need to be able to choose their actions"
   ]
  },
  {
   "cell_type": "code",
   "execution_count": 5,
   "id": "6f7a1da0-02eb-4ca2-bbcc-471113bc9a9c",
   "metadata": {},
   "outputs": [
    {
     "name": "stdin",
     "output_type": "stream",
     "text": [
      "Enter a choice (rock, paper, scissors):  paper\n"
     ]
    }
   ],
   "source": [
    "user_action = input(\"Enter a choice (rock, paper, scissors): \")"
   ]
  },
  {
   "cell_type": "code",
   "execution_count": 6,
   "id": "bab0c83f-8133-4d39-b86a-876e73f83017",
   "metadata": {},
   "outputs": [],
   "source": [
    "#Taking input from a user"
   ]
  },
  {
   "cell_type": "code",
   "execution_count": 7,
   "id": "2d142c92-431b-4606-bf96-37c7d5ff30e5",
   "metadata": {},
   "outputs": [],
   "source": [
    "possible_actions = [\"rock\", \"paper\", \"scissors\"]\n",
    "computer_action = random.choice(possible_actions)"
   ]
  },
  {
   "cell_type": "code",
   "execution_count": 8,
   "id": "f284f50f-baf0-4950-a2a5-aac4d8d88dd5",
   "metadata": {},
   "outputs": [
    {
     "name": "stdout",
     "output_type": "stream",
     "text": [
      "\n",
      "You chose paper, computer chose scissors.\n",
      "\n"
     ]
    }
   ],
   "source": [
    "print(f\"\\nYou chose {user_action}, computer chose {computer_action}.\\n\")"
   ]
  },
  {
   "cell_type": "code",
   "execution_count": 9,
   "id": "408b6629-757a-414b-8af2-e37346afcb62",
   "metadata": {},
   "outputs": [],
   "source": [
    "#print the choices that the user and the computer made"
   ]
  },
  {
   "cell_type": "code",
   "execution_count": 10,
   "id": "36e0434e-73a8-46fb-990e-8fcd0f381511",
   "metadata": {},
   "outputs": [
    {
     "name": "stdout",
     "output_type": "stream",
     "text": [
      "Scissors cuts paper! You lose.\n"
     ]
    }
   ],
   "source": [
    "if user_action == computer_action:\n",
    "    print(f\"Both players selected {user_action}. It's a tie!\")\n",
    "elif user_action == \"rock\":\n",
    "    if computer_action == \"scissors\":\n",
    "        print(\"Rock smashes scissors! You win!\")\n",
    "    else:\n",
    "        print(\"Paper covers rock! You lose.\")\n",
    "elif user_action == \"paper\":\n",
    "    if computer_action == \"rock\":\n",
    "        print(\"Paper covers rock! You win!\")\n",
    "    else:\n",
    "        print(\"Scissors cuts paper! You lose.\")\n",
    "elif user_action == \"scissors\":\n",
    "    if computer_action == \"paper\":\n",
    "        print(\"Scissors cuts paper! You win!\")\n",
    "    else:\n",
    "        print(\"Rock smashes scissors! You lose.\")"
   ]
  },
  {
   "cell_type": "code",
   "execution_count": null,
   "id": "62e0e6a5-e2d0-4b39-888e-6fc40705a4f9",
   "metadata": {},
   "outputs": [],
   "source": []
  }
 ],
 "metadata": {
  "kernelspec": {
   "display_name": "Python 3 (ipykernel)",
   "language": "python",
   "name": "python3"
  },
  "language_info": {
   "codemirror_mode": {
    "name": "ipython",
    "version": 3
   },
   "file_extension": ".py",
   "mimetype": "text/x-python",
   "name": "python",
   "nbconvert_exporter": "python",
   "pygments_lexer": "ipython3",
   "version": "3.11.7"
  }
 },
 "nbformat": 4,
 "nbformat_minor": 5
}
